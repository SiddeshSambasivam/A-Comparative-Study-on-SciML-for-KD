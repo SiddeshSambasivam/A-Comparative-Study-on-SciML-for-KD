{
 "cells": [
  {
   "cell_type": "markdown",
   "id": "f8ac4e1d",
   "metadata": {},
   "source": [
    "# Analyzing the effect of number of support points on recovery rate"
   ]
  },
  {
   "cell_type": "code",
   "execution_count": 13,
   "id": "3aa17499",
   "metadata": {},
   "outputs": [],
   "source": [
    "import os\n",
    "from collections import defaultdict\n",
    "\n",
    "import pandas as pd\n",
    "import seaborn as sns\n",
    "\n",
    "import matplotlib.pyplot as plt\n",
    "from matplotlib import rcParams\n",
    "\n",
    "LOGS_PATH = \"../../logs\"\n",
    "\n",
    "sns.set_theme(style=\"ticks\")\n",
    "sns.set_style('whitegrid')\n",
    "\n",
    "get_data = lambda path:  pd.read_excel(path,engine=\"openpyxl\", usecols=\"B:H\")"
   ]
  },
  {
   "cell_type": "code",
   "execution_count": 14,
   "id": "73dfac4c",
   "metadata": {},
   "outputs": [
    {
     "ename": "FileNotFoundError",
     "evalue": "[Errno 2] No such file or directory: '../../logs/nguyen-12/num_points'",
     "output_type": "error",
     "traceback": [
      "\u001b[0;31m---------------------------------------------------------------------------\u001b[0m",
      "\u001b[0;31mFileNotFoundError\u001b[0m                         Traceback (most recent call last)",
      "\u001b[0;32m/tmp/ipykernel_930884/285857485.py\u001b[0m in \u001b[0;36m<module>\u001b[0;34m\u001b[0m\n\u001b[1;32m      6\u001b[0m     \u001b[0mdataset_path\u001b[0m \u001b[0;34m=\u001b[0m \u001b[0mos\u001b[0m\u001b[0;34m.\u001b[0m\u001b[0mpath\u001b[0m\u001b[0;34m.\u001b[0m\u001b[0mjoin\u001b[0m\u001b[0;34m(\u001b[0m\u001b[0mLOGS_PATH\u001b[0m\u001b[0;34m,\u001b[0m \u001b[0mdataset\u001b[0m\u001b[0;34m+\u001b[0m\u001b[0;34m\"/num_points\"\u001b[0m\u001b[0;34m)\u001b[0m\u001b[0;34m\u001b[0m\u001b[0m\n\u001b[1;32m      7\u001b[0m \u001b[0;34m\u001b[0m\u001b[0m\n\u001b[0;32m----> 8\u001b[0;31m     \u001b[0;32mfor\u001b[0m \u001b[0mfile\u001b[0m \u001b[0;32min\u001b[0m \u001b[0mfilter\u001b[0m\u001b[0;34m(\u001b[0m\u001b[0;32mlambda\u001b[0m \u001b[0mx\u001b[0m\u001b[0;34m:\u001b[0m \u001b[0mx\u001b[0m\u001b[0;34m[\u001b[0m\u001b[0;34m-\u001b[0m\u001b[0;36m4\u001b[0m\u001b[0;34m:\u001b[0m\u001b[0;34m]\u001b[0m \u001b[0;34m==\u001b[0m \u001b[0;34m\"xlsx\"\u001b[0m\u001b[0;34m,\u001b[0m \u001b[0mos\u001b[0m\u001b[0;34m.\u001b[0m\u001b[0mlistdir\u001b[0m\u001b[0;34m(\u001b[0m\u001b[0mdataset_path\u001b[0m\u001b[0;34m)\u001b[0m\u001b[0;34m)\u001b[0m\u001b[0;34m:\u001b[0m\u001b[0;34m\u001b[0m\u001b[0m\n\u001b[0m\u001b[1;32m      9\u001b[0m         \u001b[0mheader\u001b[0m \u001b[0;34m=\u001b[0m \u001b[0mfile\u001b[0m\u001b[0;34m.\u001b[0m\u001b[0msplit\u001b[0m\u001b[0;34m(\u001b[0m\u001b[0;34m\"_\"\u001b[0m\u001b[0;34m)\u001b[0m\u001b[0;34m\u001b[0m\u001b[0m\n\u001b[1;32m     10\u001b[0m         \u001b[0mmodel\u001b[0m \u001b[0;34m=\u001b[0m \u001b[0mheader\u001b[0m\u001b[0;34m[\u001b[0m\u001b[0;36m0\u001b[0m\u001b[0;34m]\u001b[0m\u001b[0;34m\u001b[0m\u001b[0m\n",
      "\u001b[0;31mFileNotFoundError\u001b[0m: [Errno 2] No such file or directory: '../../logs/nguyen-12/num_points'"
     ]
    }
   ],
   "source": [
    "def get_exp_results_by_points(noise:float=0.0):\n",
    "    \n",
    "    exp_data = defaultdict(dict)\n",
    "\n",
    "    for dataset in os.listdir(LOGS_PATH):\n",
    "\n",
    "        dataset_path = os.path.join(LOGS_PATH, dataset)\n",
    "        model_results = defaultdict(dict)\n",
    "\n",
    "        for model in sorted(os.listdir(dataset_path), key=lambda x: x.lower()):\n",
    "\n",
    "            model_path = os.path.join(dataset_path, model)\n",
    "\n",
    "            filter_fn = lambda x: (\n",
    "                x[-4:] == \"xlsx\" and \\\n",
    "                int(x.split(\"_\")[1].split(\"-\")[1]) == noise\n",
    "            )\n",
    "            for file in filter(filter_fn, os.listdir(model_path)):\n",
    "                header = file.split(\"_\")\n",
    "                model = header[0]\n",
    "                points = header[2].split(\"-\")[1]\n",
    "                \n",
    "                if model_results[model].get(points) is None:\n",
    "                    tmp = get_data(os.path.join(model_path, file))\n",
    "                    tmp[\"trial\"] = [0]*len(tmp)\n",
    "                    model_results[model][points] = [tmp]\n",
    "                    continue\n",
    "                \n",
    "                tmp = get_data(os.path.join(model_path, file))\n",
    "                tmp[\"trial\"] = [len(model_results[model][points])]*len(tmp)\n",
    "                \n",
    "                model_results[model][points].append(tmp)\n",
    "                \n",
    "        exp_data[dataset] = dict(model_results)\n",
    "            \n",
    "    return exp_data\n",
    "            \n",
    "\n",
    "exp_data = get_exp_results_by_points()\n"
   ]
  },
  {
   "cell_type": "code",
   "execution_count": 8,
   "id": "903f5d69",
   "metadata": {},
   "outputs": [],
   "source": [
    "dataset_df = {}\n",
    "\n",
    "for dataset in os.listdir(LOGS_PATH):\n",
    "\n",
    "    acc, tim = [], []\n",
    "\n",
    "    df_dict = {\n",
    "        \"model\":[],\n",
    "        \"accuracy\":[],\n",
    "        \"support points\":[],\n",
    "        \"duration\":[],\n",
    "        \"trial\":[],\n",
    "    }    \n",
    "    \n",
    "    models = sorted(exp_data[dataset].keys())\n",
    "    for model in models:\n",
    "        \n",
    "        points = sorted(exp_data[dataset][model].keys(), key=lambda x: int(x))\n",
    "        for point in points:\n",
    "            \n",
    "            for df_col in exp_data[dataset][model][point]:\n",
    "            \n",
    "                acc = len(df_col[df_col[\"accuracy\"]>=0.95])/len(df_col)        \n",
    "                dur = df_col.describe()['time']['mean']\n",
    "                trial = int(df_col.describe()['trial']['mean'])\n",
    "\n",
    "                df_dict[\"model\"].append(model)\n",
    "                df_dict[\"accuracy\"].append(acc)\n",
    "                df_dict[\"support points\"].append(point)\n",
    "                df_dict[\"duration\"].append(dur)\n",
    "                df_dict[\"trial\"].append(trial)\n",
    "            \n",
    "    df = pd.DataFrame(data=df_dict)\n",
    "    dataset_df[dataset] = df"
   ]
  },
  {
   "cell_type": "code",
   "execution_count": 9,
   "id": "4ddb6eb9",
   "metadata": {},
   "outputs": [],
   "source": [
    "def show_acc_plot(datasets:list):\n",
    "    \n",
    "    f, axs = plt.subplots(1,len(datasets),\n",
    "                      figsize=(13,5),\n",
    "                      )\n",
    "    \n",
    "    for i, dataset in enumerate(datasets):\n",
    "        \n",
    "        fig = sns.lineplot(x=\"support points\", y=\"accuracy\",\n",
    "            hue=\"model\",\n",
    "            data=dataset_df[dataset], marker=\"o\", \n",
    "            linewidth = 0.8,  ax=axs[i]\n",
    "        )\n",
    "\n",
    "        fig.set_title(f\"\\n{dataset.capitalize()}: Effect of number of support points on recovery rate\\n\")\n",
    "        fig.axhline(dataset_df[dataset][\"accuracy\"].max(), linestyle=\"--\", linewidth=1.2, color='gray')\n",
    "    \n",
    "        fig.set_ylim(-0.1, 1.0)\n",
    "    \n",
    "        handles, labels = axs[i].get_legend_handles_labels()\n",
    "        fig.legend(handles, labels, loc='upper right')\n",
    "        fig.set_xlabel(\"Number of support points\")\n",
    "        fig.set_ylabel(\"Recovery rate\")\n",
    "\n",
    "show_acc_plot([\"Feynman-03\", \"nguyen-12\"])"
   ]
  },
  {
   "cell_type": "code",
   "execution_count": null,
   "id": "35fe7c6c",
   "metadata": {},
   "outputs": [],
   "source": []
  }
 ],
 "metadata": {
  "kernelspec": {
   "display_name": "Python 3 (ipykernel)",
   "language": "python",
   "name": "python3"
  },
  "language_info": {
   "codemirror_mode": {
    "name": "ipython",
    "version": 3
   },
   "file_extension": ".py",
   "mimetype": "text/x-python",
   "name": "python",
   "nbconvert_exporter": "python",
   "pygments_lexer": "ipython3",
   "version": "3.7.0"
  }
 },
 "nbformat": 4,
 "nbformat_minor": 5
}
