{
 "cells": [
  {
   "cell_type": "code",
   "execution_count": 1,
   "id": "28b8daa3",
   "metadata": {},
   "outputs": [],
   "source": [
    "import numpy as np\n",
    "from scipy.io import loadmat\n",
    "import matplotlib.pyplot as plt\n",
    "\n",
    "from sklearn.metrics import r2_score\n",
    "\n",
    "import pysindy as ps\n",
    "import pandas as pd"
   ]
  },
  {
   "cell_type": "markdown",
   "id": "498b8034",
   "metadata": {},
   "source": [
    "### Burgers equation\n",
    "\n",
    "$$u_t = -uu_{x}+0.1u_{xx}$$"
   ]
  },
  {
   "cell_type": "code",
   "execution_count": 3,
   "id": "0d324367",
   "metadata": {},
   "outputs": [
    {
     "name": "stdout",
     "output_type": "stream",
     "text": [
      "Sampling interval: 0.1 seconds\n",
      "x: (256,) t:(101,) u: (256, 101)\n",
      "\n",
      "Noise: 0.0 R2 Score: 0.9999838806846536\n",
      "(u)' = 0.100 u_11 + -1.001 uu_1\n",
      "\n",
      "Noise: 0.001 R2 Score: 0.9050044630048817\n",
      "(u)' = 0.125 u + -0.352 uu + -0.259 u_1 + -0.654 uuu_11\n",
      "\n",
      "Noise: 0.01 R2 Score: 0.8499567772604062\n",
      "(u)' = 0.123 u + -0.345 uu + -1.166 uu_1 + -0.001 uu_11 + 0.509 uuu_11\n",
      "\n",
      "Noise: 0.1 R2 Score: 0.25233637420156063\n",
      "(u)' = -0.051 uu_1 + -0.287 uuu_11 + -0.001 uuu_111\n"
     ]
    }
   ],
   "source": [
    "def load_burgers_data(path:str):\n",
    "    \n",
    "    burgers_data = loadmat(path)\n",
    "\n",
    "    burgers_t = np.ravel(burgers_data[\"t\"])\n",
    "    burgers_x = np.ravel(burgers_data[\"x\"])\n",
    "    burgers_u = np.real(burgers_data[\"usol\"])\n",
    "\n",
    "    dt = burgers_t[1] - burgers_t[0]\n",
    "    print(f\"Sampling interval: {dt} seconds\")\n",
    "    print(f\"x: {burgers_x.shape} t:{burgers_t.shape} u: {burgers_u.shape}\")\n",
    "    \n",
    "    return (burgers_u, burgers_t, burgers_x)\n",
    "\n",
    "def get_pdefind_library(spatial_grid):\n",
    "    library_functions = [lambda x: x, lambda x: x * x]\n",
    "    library_function_names = [lambda x: x, lambda x: x + x]\n",
    "\n",
    "    pde_lib = ps.PDELibrary(\n",
    "        library_functions=library_functions,\n",
    "        function_names=library_function_names,\n",
    "        derivative_order=3,\n",
    "        spatial_grid=spatial_grid,\n",
    "        is_uniform=True,    \n",
    "        include_bias=True\n",
    "    )    \n",
    "    \n",
    "    return pde_lib\n",
    "\n",
    "def run_pdefind_burgers_exp():\n",
    "    \n",
    "    (burgers_u, burgers_t, burgers_x) = load_burgers_data(\"data/burgers.mat\")\n",
    "    pde_lib = get_pdefind_library(burgers_x)\n",
    "    \n",
    "    dt = burgers_t[1]-burgers_t[0]\n",
    "    \n",
    "    noises = [0.0, 0.001, 0.01, 0.1]\n",
    "    burgers_u_dot = ps.FiniteDifference(axis=1)._differentiate(burgers_u, t=dt)\n",
    "\n",
    "    for noise in noises:\n",
    "\n",
    "        noise_mat = np.random.normal(0, noise, (len(burgers_x), len(burgers_t), 1))\n",
    "        reshaped_burgers_u = burgers_u.reshape(len(burgers_x), len(burgers_t), 1)\n",
    "\n",
    "        optimizer = ps.STLSQ(threshold=2, alpha=1e-5, normalize_columns=True)\n",
    "        model = ps.SINDy(feature_library=pde_lib, optimizer=optimizer, feature_names=[\"u\"])\n",
    "        model.fit(reshaped_burgers_u+noise_mat, t=dt)\n",
    "\n",
    "        u_dot_predict = model.predict(reshaped_burgers_u)\n",
    "        print(f'\\nNoise: {noise} R2 Score: {r2_score(burgers_u_dot, u_dot_predict.reshape(u_dot_predict.shape[0], u_dot_predict.shape[1]))}')\n",
    "        model.print()\n",
    "\n",
    "run_pdefind_burgers_exp()"
   ]
  },
  {
   "cell_type": "markdown",
   "id": "437a6a02",
   "metadata": {},
   "source": [
    "### Weak PDE"
   ]
  },
  {
   "cell_type": "code",
   "execution_count": 30,
   "id": "843aba39",
   "metadata": {},
   "outputs": [
    {
     "name": "stdout",
     "output_type": "stream",
     "text": [
      "Sampling interval: 0.1 seconds\n",
      "x: (256,) t:(101,) u: (256, 101)\n",
      "(u)' = 0.100 u_11 + -1.002 uu_1\n",
      "(u)' = 0.100 u_11 + -1.002 uu_1\n",
      "(u)' = 0.100 u_11 + -1.000 uu_1\n",
      "(u)' = -0.954 uu_1\n"
     ]
    }
   ],
   "source": [
    "\n",
    "def run_weaksindy_burgers_exp():\n",
    "    \n",
    "    (burgers_u, burgers_t, burgers_x) = load_burgers_data(\"data/burgers.mat\")\n",
    "    \n",
    "    dt = burgers_t[1]-burgers_t[0]\n",
    "    \n",
    "    X, T = np.meshgrid(burgers_x, burgers_t)\n",
    "    XT = np.asarray([X, T]).T\n",
    "    \n",
    "    library_functions = [lambda x: x, lambda x: x * x]\n",
    "    library_function_names = [lambda x: x, lambda x: x + x]    \n",
    "    \n",
    "    pde_lib = ps.WeakPDELibrary(\n",
    "        library_functions=library_functions,\n",
    "        function_names=library_function_names,\n",
    "        derivative_order=2,\n",
    "        spatiotemporal_grid=XT,\n",
    "        is_uniform=True,\n",
    "        K = 1000\n",
    "    )\n",
    "    \n",
    "    noises = [0.0, 0.001, 0.01, 0.1]\n",
    "    burgers_u_dot = ps.FiniteDifference(axis=1)._differentiate(burgers_u, t=dt)\n",
    "\n",
    "    for noise in noises:\n",
    "\n",
    "        noise_mat = np.random.normal(0, noise, (len(burgers_x), len(burgers_t), 1))\n",
    "        reshaped_burgers_u = burgers_u.reshape(len(burgers_x), len(burgers_t), 1)\n",
    "        reshaped = burgers_u_dot.reshape(len(burgers_x), len(burgers_t))\n",
    "\n",
    "        optimizer = ps.SR3(threshold=0.1, thresholder='l0',\n",
    "                           tol=1e-8, normalize_columns=True, max_iter=1000)\n",
    "        # optimizer = ps.STLSQ(threshold=0.1, alpha=1e-5, normalize_columns=True)\n",
    "        \n",
    "        model = ps.SINDy(feature_library=pde_lib, optimizer=optimizer,  feature_names=[\"u\"])\n",
    "        model.fit(reshaped_burgers_u+noise_mat, t=dt)\n",
    "        model.print()    \n",
    "        \n",
    "#         pred = model.predict(reshaped_burgers_u)\n",
    "#         print(burgers_u_dot.shape, reshaped_burgers_u.shape)\n",
    "#         break\n",
    "\n",
    "#         u_dot_predict = model.predict()        \n",
    "#         print(u_dot_predict.shape, burgers_u_dot.shape)\n",
    "#         score = r2_score(\n",
    "#             burgers_u_dot, \n",
    "#             u_dot_predict.reshape(\n",
    "#                 u_dot_predict.shape[0], u_dot_predict.shape[1]\n",
    "#             )\n",
    "#         )\n",
    "        \n",
    "#         print(f'\\nNoise: {noise} R2 Score: {score}')\n",
    "#         model.print()\n",
    "        \n",
    "run_weaksindy_burgers_exp()"
   ]
  },
  {
   "cell_type": "code",
   "execution_count": null,
   "id": "1ca795f7",
   "metadata": {},
   "outputs": [],
   "source": []
  }
 ],
 "metadata": {
  "kernelspec": {
   "display_name": "Python 3 (ipykernel)",
   "language": "python",
   "name": "python3"
  },
  "language_info": {
   "codemirror_mode": {
    "name": "ipython",
    "version": 3
   },
   "file_extension": ".py",
   "mimetype": "text/x-python",
   "name": "python",
   "nbconvert_exporter": "python",
   "pygments_lexer": "ipython3",
   "version": "3.7.0"
  }
 },
 "nbformat": 4,
 "nbformat_minor": 5
}
